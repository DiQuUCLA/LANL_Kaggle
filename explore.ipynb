{
 "cells": [
  {
   "cell_type": "code",
   "execution_count": 1,
   "metadata": {},
   "outputs": [],
   "source": [
    "import numpy as np\n",
    "import pandas as pd\n",
    "from pathlib import Path\n",
    "import matplotlib.pyplot as plt"
   ]
  },
  {
   "cell_type": "code",
   "execution_count": 2,
   "metadata": {},
   "outputs": [],
   "source": [
    "from scipy.fftpack import fft"
   ]
  },
  {
   "cell_type": "code",
   "execution_count": 3,
   "metadata": {},
   "outputs": [],
   "source": [
    "import gc"
   ]
  },
  {
   "cell_type": "code",
   "execution_count": 4,
   "metadata": {},
   "outputs": [],
   "source": [
    "PATH = Path(\".\")\n",
    "TRAIN_PATH = PATH/\"train\"\n",
    "TEST_PATH = PATH/\"test\""
   ]
  },
  {
   "cell_type": "code",
   "execution_count": 5,
   "metadata": {},
   "outputs": [],
   "source": [
    "sample = pd.read_csv(TRAIN_PATH/\"train.csv\", dtype=np.float, nrows=150000000)"
   ]
  },
  {
   "cell_type": "code",
   "execution_count": 6,
   "metadata": {},
   "outputs": [],
   "source": [
    "sample_15_x = sample[:1500000]['acoustic_data']"
   ]
  },
  {
   "cell_type": "code",
   "execution_count": 7,
   "metadata": {},
   "outputs": [],
   "source": [
    "def segmentation(data, skipping=150000, window_size=150000):\n",
    "    return list(range(0, len(data)-len(data)%window_size - window_size + 1, skipping))"
   ]
  },
  {
   "cell_type": "code",
   "execution_count": 8,
   "metadata": {},
   "outputs": [],
   "source": [
    "def basic_feature(data, skipping=150000, window_size=150000):\n",
    "    segment_start = segmentation(data, skipping, window_size)\n",
    "    features = pd.DataFrame(index=range(len(segment_start)), dtype=np.float64)\n",
    "    i = 0\n",
    "    for start in segment_start:\n",
    "        features.loc[i, \"mean\"] = data[start: start+window_size].mean()\n",
    "        features.loc[i, \"std\"] = data[start: start+window_size].std()\n",
    "        features.loc[i, \"95_quantile\"] = np.quantile(data[start: start+window_size], 0.95)\n",
    "        features.loc[i, \"50_quantile\"] = np.quantile(data[start: start+window_size], 0.50)\n",
    "        features.loc[i, \"10_quantile\"] = np.quantile(data[start: start+window_size], 0.10)\n",
    "        features.loc[i, \"5_quantile\"] = np.quantile(data[start: start+window_size], 0.05)\n",
    "        \n",
    "        features.loc[i, \"first_5000_mean\"] = data[start: start+5000].mean()\n",
    "        features.loc[i, \"first_5000_std\"] = data[start: start+5000].std()\n",
    "        features.loc[i, \"95_quantile_f5000\"] = np.quantile(data[start: start+5000], 0.95)\n",
    "        features.loc[i, \"50_quantile_f5000\"] = np.quantile(data[start: start+5000], 0.50)\n",
    "        features.loc[i, \"10_quantile_f5000\"] = np.quantile(data[start: start+5000], 0.10)\n",
    "        features.loc[i, \"5_quantile_f5000\"] = np.quantile(data[start: start+5000], 0.05)\n",
    "        \n",
    "        features.loc[i, \"mid_5000_mean\"] = data[start+5000: start+10000].mean()\n",
    "        features.loc[i, \"mid_5000_std\"] = data[start+5000: start+10000].std()\n",
    "        features.loc[i, \"95_quantile_m5000\"] = np.quantile(data[start+5000: start+10000], 0.95)\n",
    "        features.loc[i, \"50_quantile_m5000\"] = np.quantile(data[start+5000: start+10000], 0.50)\n",
    "        features.loc[i, \"10_quantile_m5000\"] = np.quantile(data[start+5000: start+10000], 0.10)\n",
    "        features.loc[i, \"5_quantile_m5000\"] = np.quantile(data[start+5000: start+10000], 0.05)\n",
    "        \n",
    "        features.loc[i, \"last_5000_mean\"] = data[-5000:].mean()\n",
    "        features.loc[i, \"last_5000_std\"] = data[-5000:].std()\n",
    "        features.loc[i, \"95_quantile_l5000\"] = np.quantile(data[-5000:], 0.95)\n",
    "        features.loc[i, \"50_quantile_l5000\"] = np.quantile(data[-5000:], 0.50)\n",
    "        features.loc[i, \"10_quantile_l5000\"] = np.quantile(data[-5000:], 0.10)\n",
    "        features.loc[i, \"5_quantile_l5000\"] = np.quantile(data[-5000:], 0.05)\n",
    "        \n",
    "        rolling_window_100_mean = data[start: start+window_size].rolling(100).mean().dropna()\n",
    "        rolling_window_100_std = data[start: start+window_size].rolling(100).std().dropna()\n",
    "        features.loc[i, \"rw100_mean_mean\"] = rolling_window_100_mean.mean()\n",
    "        features.loc[i, \"rw100_mean_std\"] = rolling_window_100_mean.std()\n",
    "        features.loc[i, \"rw100_std_mean\"] = rolling_window_100_std.mean()\n",
    "        features.loc[i, \"rw100_std_std\"] = rolling_window_100_std.std()\n",
    "        features.loc[i, \"rw100_mean_diff_mean\"] = rolling_window_100_mean.diff().dropna().mean()\n",
    "        features.loc[i, \"rw100_mean_diff_std\"] = rolling_window_100_mean.diff().dropna().std()\n",
    "        features.loc[i, \"rw100_std_diff_mean\"] = rolling_window_100_std.diff().dropna().mean()\n",
    "        features.loc[i, \"rw100_std_diff_std\"] = rolling_window_100_std.diff().dropna().std()\n",
    "        \n",
    "        rolling_window_1000_mean = data[start: start+window_size].rolling(1000).mean().dropna()\n",
    "        rolling_window_1000_std = data[start: start+window_size].rolling(1000).std().dropna()\n",
    "        features.loc[i, \"rw100_mean_mean\"] = rolling_window_1000_mean.mean()\n",
    "        features.loc[i, \"rw100_mean_std\"] = rolling_window_1000_mean.std()\n",
    "        features.loc[i, \"rw100_std_mean\"] = rolling_window_1000_std.mean()\n",
    "        features.loc[i, \"rw100_std_std\"] = rolling_window_1000_std.std()\n",
    "        features.loc[i, \"rw100_mean_diff_mean\"] = rolling_window_1000_mean.diff().dropna().mean()\n",
    "        features.loc[i, \"rw100_mean_diff_std\"] = rolling_window_1000_mean.diff().dropna().std()\n",
    "        features.loc[i, \"rw100_std_diff_mean\"] = rolling_window_1000_std.diff().dropna().mean()\n",
    "        features.loc[i, \"rw100_std_diff_std\"] = rolling_window_1000_std.diff().dropna().std()\n",
    "        \n",
    "        rolling_window_5000_mean = data[start: start+window_size].rolling(5000).mean().dropna()\n",
    "        rolling_window_5000_std = data[start: start+window_size].rolling(5000).std().dropna()\n",
    "        features.loc[i, \"rw100_mean_mean\"] = rolling_window_5000_mean.mean()\n",
    "        features.loc[i, \"rw100_mean_std\"] = rolling_window_5000_mean.std()\n",
    "        features.loc[i, \"rw100_std_mean\"] = rolling_window_5000_std.mean()\n",
    "        features.loc[i, \"rw100_std_std\"] = rolling_window_5000_std.std()\n",
    "        features.loc[i, \"rw100_mean_diff_mean\"] = rolling_window_5000_mean.diff().dropna().mean()\n",
    "        features.loc[i, \"rw100_mean_diff_std\"] = rolling_window_5000_mean.diff().dropna().std()\n",
    "        features.loc[i, \"rw100_std_diff_mean\"] = rolling_window_5000_std.diff().dropna().mean()\n",
    "        features.loc[i, \"rw100_std_diff_std\"] = rolling_window_5000_std.diff().dropna().std()\n",
    "        i += 1\n",
    "    return features"
   ]
  },
  {
   "cell_type": "code",
   "execution_count": 9,
   "metadata": {},
   "outputs": [
    {
     "name": "stdout",
     "output_type": "stream",
     "text": [
      "CPU times: user 7.25 s, sys: 90.6 ms, total: 7.34 s\n",
      "Wall time: 7.34 s\n"
     ]
    }
   ],
   "source": [
    "%%time\n",
    "test = basic_feature(sample_15_x, 15000)"
   ]
  },
  {
   "cell_type": "code",
   "execution_count": 10,
   "metadata": {},
   "outputs": [
    {
     "ename": "NameError",
     "evalue": "name 'test' is not defined",
     "output_type": "error",
     "traceback": [
      "\u001b[0;31m---------------------------------------------------------------------------\u001b[0m",
      "\u001b[0;31mNameError\u001b[0m                                 Traceback (most recent call last)",
      "\u001b[0;32m<ipython-input-10-4e1243bd22c6>\u001b[0m in \u001b[0;36m<module>\u001b[0;34m\u001b[0m\n\u001b[0;32m----> 1\u001b[0;31m \u001b[0mtest\u001b[0m\u001b[0;34m\u001b[0m\u001b[0;34m\u001b[0m\u001b[0m\n\u001b[0m",
      "\u001b[0;31mNameError\u001b[0m: name 'test' is not defined"
     ]
    }
   ],
   "source": [
    "test"
   ]
  },
  {
   "cell_type": "code",
   "execution_count": null,
   "metadata": {},
   "outputs": [],
   "source": [
    "rolling_window_100 = sample_15_x[0: 150000].rolling(100)"
   ]
  },
  {
   "cell_type": "code",
   "execution_count": null,
   "metadata": {},
   "outputs": [],
   "source": [
    "rolling_window_100.std().dropna().mean()"
   ]
  },
  {
   "cell_type": "code",
   "execution_count": null,
   "metadata": {},
   "outputs": [],
   "source": [
    "gc.collect()"
   ]
  },
  {
   "cell_type": "code",
   "execution_count": null,
   "metadata": {},
   "outputs": [],
   "source": [
    "fig, ax1 = plt.subplots(figsize=(20, 8))\n",
    "plt.plot(sample_500[\"acoustic_data\"].values[::10], color='b')\n",
    "ax2 = ax1.twinx()\n",
    "plt.plot(sample_500[\"time_to_failure\"].values[::10], color='r')"
   ]
  },
  {
   "cell_type": "code",
   "execution_count": null,
   "metadata": {},
   "outputs": [],
   "source": [
    "fft_sample_500 = fft(sample_500['acoustic_data'][:150000])"
   ]
  },
  {
   "cell_type": "code",
   "execution_count": null,
   "metadata": {},
   "outputs": [],
   "source": [
    "plt.plot(sample_500[:150001])"
   ]
  },
  {
   "cell_type": "code",
   "execution_count": null,
   "metadata": {},
   "outputs": [],
   "source": [
    "plt.plot(sample_500[150000:300000])"
   ]
  },
  {
   "cell_type": "code",
   "execution_count": null,
   "metadata": {},
   "outputs": [],
   "source": [
    "test_set = pd.read_csv(TEST_PATH/\"seg_00184e.csv\")"
   ]
  },
  {
   "cell_type": "code",
   "execution_count": null,
   "metadata": {},
   "outputs": [],
   "source": []
  }
 ],
 "metadata": {
  "kernelspec": {
   "display_name": "Python 3",
   "language": "python",
   "name": "python3"
  },
  "language_info": {
   "codemirror_mode": {
    "name": "ipython",
    "version": 3
   },
   "file_extension": ".py",
   "mimetype": "text/x-python",
   "name": "python",
   "nbconvert_exporter": "python",
   "pygments_lexer": "ipython3",
   "version": "3.6.7"
  }
 },
 "nbformat": 4,
 "nbformat_minor": 2
}
